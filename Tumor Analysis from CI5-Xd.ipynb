{
 "cells": [
  {
   "cell_type": "markdown",
   "metadata": {},
   "source": [
    "This is an analysis of tumor incidence in 7 global regions (WHO regions, with America split into USA/Canada and Latin America) from data in the CI5-Xd database.\n",
    "\n",
    "First, we'll need to import some libraries."
   ]
  },
  {
   "cell_type": "code",
   "execution_count": 1,
   "metadata": {
    "collapsed": false
   },
   "outputs": [],
   "source": [
    "import numpy as np\n",
    "import pandas as pd\n",
    "import matplotlib.pyplot as plt"
   ]
  },
  {
   "cell_type": "markdown",
   "metadata": {},
   "source": [
    "Next, we'll define some locations where the data are. The registry list should be in CSV format. The columns list:\n",
    "\n",
    "    (1) A numeric code denoting the identity of the registry, corresponding to the name of the CSV file with data from that registry.\n",
    "    (2) A text description of the registry.\n",
    "    (3) A numeric code listing which region the registry corresponds to: \n",
    "         1- 'AFR'\n",
    "         2- 'AMR-L'\n",
    "         3- 'AMR-US'\n",
    "         4- 'EMR'\n",
    "         5- 'WPR'\n",
    "         6- 'SEAR'\n",
    "         7- 'EUR'\n",
    "    (4) A numeric code denoting the WorldBank income level of the country the registry covers:\n",
    "        1- Low income\n",
    "        2- Lower middle income\n",
    "        3- Higher middle income\n",
    "        4- High income\n",
    "    (5) A numeric flag denoting whether to use the registry in the calculation. 0- Don't use. 1- Use."
   ]
  },
  {
   "cell_type": "code",
   "execution_count": 2,
   "metadata": {
    "collapsed": false
   },
   "outputs": [],
   "source": [
    "regionList = ['AFR', 'AMR-L', 'AMR-US/C', 'EMR', 'WPR', 'SEAR', 'EUR']\n",
    "dataDir = './CI5-Xd/CSV/'\n",
    "registryList = './CI5-Xd/registryCSV.csv'"
   ]
  },
  {
   "cell_type": "markdown",
   "metadata": {},
   "source": [
    "Import the registry list as a dataframe. Skip the 1st row, and add our own descriptions for the columns."
   ]
  },
  {
   "cell_type": "code",
   "execution_count": 3,
   "metadata": {
    "collapsed": false
   },
   "outputs": [
    {
     "data": {
      "text/html": [
       "<div>\n",
       "<table border=\"1\" class=\"dataframe\">\n",
       "  <thead>\n",
       "    <tr style=\"text-align: right;\">\n",
       "      <th></th>\n",
       "      <th>Reg #</th>\n",
       "      <th>Description</th>\n",
       "      <th>Region</th>\n",
       "      <th>Income</th>\n",
       "      <th>Use</th>\n",
       "    </tr>\n",
       "  </thead>\n",
       "  <tbody>\n",
       "    <tr>\n",
       "      <th>1</th>\n",
       "      <td>14340199</td>\n",
       "      <td>Libya, Benghazi (2003-2005)</td>\n",
       "      <td>1</td>\n",
       "      <td>3</td>\n",
       "      <td>0</td>\n",
       "    </tr>\n",
       "    <tr>\n",
       "      <th>2</th>\n",
       "      <td>14540199</td>\n",
       "      <td>Malawi, Blantyre (2003-2007)</td>\n",
       "      <td>1</td>\n",
       "      <td>1</td>\n",
       "      <td>0</td>\n",
       "    </tr>\n",
       "    <tr>\n",
       "      <th>3</th>\n",
       "      <td>17100199</td>\n",
       "      <td>South Africa, PROMEC (2003-2007)</td>\n",
       "      <td>1</td>\n",
       "      <td>3</td>\n",
       "      <td>0</td>\n",
       "    </tr>\n",
       "    <tr>\n",
       "      <th>4</th>\n",
       "      <td>17160270</td>\n",
       "      <td>Zimbabwe, Harare: African (2003-2006)</td>\n",
       "      <td>1</td>\n",
       "      <td>1</td>\n",
       "      <td>0</td>\n",
       "    </tr>\n",
       "    <tr>\n",
       "      <th>5</th>\n",
       "      <td>17880299</td>\n",
       "      <td>Tunisia, North (2003-2005)</td>\n",
       "      <td>1</td>\n",
       "      <td>2</td>\n",
       "      <td>0</td>\n",
       "    </tr>\n",
       "    <tr>\n",
       "      <th>6</th>\n",
       "      <td>18000299</td>\n",
       "      <td>Uganda, Kyadondo County (2003-2007)</td>\n",
       "      <td>1</td>\n",
       "      <td>1</td>\n",
       "      <td>1</td>\n",
       "    </tr>\n",
       "    <tr>\n",
       "      <th>7</th>\n",
       "      <td>18180299</td>\n",
       "      <td>Egypt, Gharbiah (2003-2007)</td>\n",
       "      <td>1</td>\n",
       "      <td>2</td>\n",
       "      <td>0</td>\n",
       "    </tr>\n",
       "    <tr>\n",
       "      <th>8</th>\n",
       "      <td>20320199</td>\n",
       "      <td>Argentina, BahÌa Blanca (2003-2007)</td>\n",
       "      <td>2</td>\n",
       "      <td>3</td>\n",
       "      <td>1</td>\n",
       "    </tr>\n",
       "  </tbody>\n",
       "</table>\n",
       "</div>"
      ],
      "text/plain": [
       "      Reg #                            Description  Region  Income  Use\n",
       "1  14340199            Libya, Benghazi (2003-2005)       1       3    0\n",
       "2  14540199           Malawi, Blantyre (2003-2007)       1       1    0\n",
       "3  17100199       South Africa, PROMEC (2003-2007)       1       3    0\n",
       "4  17160270  Zimbabwe, Harare: African (2003-2006)       1       1    0\n",
       "5  17880299             Tunisia, North (2003-2005)       1       2    0\n",
       "6  18000299    Uganda, Kyadondo County (2003-2007)       1       1    1\n",
       "7  18180299            Egypt, Gharbiah (2003-2007)       1       2    0\n",
       "8  20320199    Argentina, BahÌa Blanca (2003-2007)       2       3    1"
      ]
     },
     "execution_count": 3,
     "metadata": {},
     "output_type": "execute_result"
    }
   ],
   "source": [
    "df = pd.read_csv(registryList, skiprows=1, names=['Reg #', 'Description', 'Region', 'Income', 'Use'])\n",
    "df.iloc[1:9]"
   ]
  },
  {
   "cell_type": "markdown",
   "metadata": {},
   "source": [
    "Define what age range and tumor types we'll use. \n",
    "\n",
    "Group codes are indexed 1-19, corresponding to ages 0-4,5-9,10-14,15-19,...,80-84,85+,Unknown.\n",
    "\n",
    "Sex is coded 1/male, 2/female.\n",
    "\n",
    "Tumors are described in cancer.txt. Relevant codes are:\n",
    "\n",
    "    173 Eye, brain and central nervous system (C69-72)\n",
    "    174 Eye (C69)\n",
    "    175 \tRetinoblastoma\n",
    "    176 \tMelanoma\n",
    "    177 \tSquamous cell carcinoma\n",
    "    178 \tOther specified carcinoma\n",
    "    179 \tUnspecified carcinoma\n",
    "    180 \tSarcoma\n",
    "    181 \tOther morphology\n",
    "    182 \tUnspecified morphology\n",
    "    183 Meninges (C70)\n",
    "    184 Central nervous system (C71-72)\n",
    "    185 \tAstrocytic tumours\n",
    "    186 \tOligodendroglial tumours and mixed gliomas\n",
    "    187 \tEpendymal tumours\n",
    "    188 \tGliomas of uncertain origin\n",
    "    189 \tMedulloblastoma\n",
    "    190 \tOther embryonal tumours\n",
    "    191 \tOther neuroepithelial tumours\n",
    "    192 \tOther specified morphology\n",
    "    193 \tUnspecified morphology\n",
    "    194 Brain (C71)\n",
    "    195 Other parts of central nervous system (C72)\n",
    "    196 \tSpinal cord, cauda equina (C72.0,1)\n",
    "    197 \tCranial nerves (C72.2-5)\n",
    "    198 \tNervous system, NOS (C72.8-9)"
   ]
  },
  {
   "cell_type": "code",
   "execution_count": 8,
   "metadata": {
    "collapsed": false
   },
   "outputs": [],
   "source": [
    "useAges   = [4,5,6,7,8,9,10,11,12,13,14,15,16,17,18] # Use ages 15-85+\n",
    "useSexes  = [1,2]                                    # Use both male and female\n",
    "useTumors = [183, 184]                               # Meninges (C70), CNS (C71-72)"
   ]
  },
  {
   "cell_type": "code",
   "execution_count": 5,
   "metadata": {
    "collapsed": false
   },
   "outputs": [
    {
     "name": "stdout",
     "output_type": "stream",
     "text": [
      "AFR\n",
      "AMR-L\n",
      "AMR-US/C\n",
      "EMR\n",
      "WPR\n",
      "SEAR\n",
      "EUR\n"
     ]
    }
   ],
   "source": [
    "# Loop through all the regions we need to analyze\n",
    "for regionN in range(1, 8):\n",
    "    print(regionList[regionN-1])\n",
    "    regFrame = df[np.logical_and(df['Region'] == regionN, df['Use'] > 0)]\n",
    "    \n",
    "    regFrame.size\n",
    "    \n",
    "    \n",
    "    \n",
    "    \n",
    "    "
   ]
  },
  {
   "cell_type": "code",
   "execution_count": 6,
   "metadata": {
    "collapsed": false
   },
   "outputs": [
    {
     "data": {
      "text/plain": [
       "['AFR', 'AMR-L', 'AMR-US/C', 'EMR', 'WPR', 'SEAR', 'EUR']"
      ]
     },
     "execution_count": 6,
     "metadata": {},
     "output_type": "execute_result"
    }
   ],
   "source": [
    "regionList"
   ]
  },
  {
   "cell_type": "code",
   "execution_count": 7,
   "metadata": {
    "collapsed": false
   },
   "outputs": [
    {
     "ename": "TypeError",
     "evalue": "'numpy.int64' object is not callable",
     "output_type": "error",
     "traceback": [
      "\u001b[0;31m---------------------------------------------------------------------------\u001b[0m",
      "\u001b[0;31mTypeError\u001b[0m                                 Traceback (most recent call last)",
      "\u001b[0;32m<ipython-input-7-3d347d840e9b>\u001b[0m in \u001b[0;36m<module>\u001b[0;34m()\u001b[0m\n\u001b[0;32m----> 1\u001b[0;31m \u001b[0mregFrame\u001b[0m\u001b[0;34m.\u001b[0m\u001b[0msize\u001b[0m\u001b[0;34m(\u001b[0m\u001b[0;34m)\u001b[0m\u001b[0;34m\u001b[0m\u001b[0m\n\u001b[0m",
      "\u001b[0;31mTypeError\u001b[0m: 'numpy.int64' object is not callable"
     ]
    }
   ],
   "source": [
    "regFrame.size()"
   ]
  },
  {
   "cell_type": "code",
   "execution_count": null,
   "metadata": {
    "collapsed": true
   },
   "outputs": [],
   "source": []
  }
 ],
 "metadata": {
  "kernelspec": {
   "display_name": "Python 3",
   "git": {
    "suppress_outputs": true
   },
   "language": "python",
   "name": "python3"
  },
  "language_info": {
   "codemirror_mode": {
    "name": "ipython",
    "version": 3
   },
   "file_extension": ".py",
   "mimetype": "text/x-python",
   "name": "python",
   "nbconvert_exporter": "python",
   "pygments_lexer": "ipython3",
   "version": "3.5.2"
  }
 },
 "nbformat": 4,
 "nbformat_minor": 1
}
